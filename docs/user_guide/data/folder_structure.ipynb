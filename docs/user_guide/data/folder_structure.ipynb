{
  "cells": [
    {
      "cell_type": "markdown",
      "metadata": {},
      "source": [
        "## Delft-FIAT Folder Dependencies"
      ],
      "id": "b30047ab"
    },
    {
      "cell_type": "raw",
      "metadata": {},
      "source": [
        "---\n",
        "title: \"Folder structure\"\n",
        "\n",
        "---"
      ],
      "id": "c00452e8"
    },
    {
      "cell_type": "markdown",
      "metadata": {},
      "source": [
        "FIAT computes the damage of a flood event at a specified geographic location based on three main data inputs;\n",
        "\n",
        "  - Hazard data\n",
        "  - Exposure data\n",
        "  - Vulnerability data\n",
        "\n",
        "It is recommended to set up folder dependency set up as shown below to ensure that FIAT can find each data file and run smoothly.\n"
      ],
      "id": "957ed696"
    },
    {
      "cell_type": "code",
      "metadata": {},
      "source": [
        "print(\"├───📁 FIAT/\n",
        "    ├───📁 exposure/\n",
        "    │   ├───📄 buildings.gpkg\n",
        "    │   └───📄 exposure.csv\n",
        "    ├───📁 hazard/\n",
        "    │   └───📄 hazard_map.geotiff\n",
        "    ├───📁 vulnerability/\n",
        "    │   └───📄 damage_curves.csv\n",
        "    └───📄 settings.toml\"\n",
        ")"
      ],
      "id": "95434a71",
      "execution_count": null,
      "outputs": []
    },
    {
      "cell_type": "markdown",
      "metadata": {},
      "source": [
        "├───📁 FIAT/\n",
        "    ├───📁 exposure/\n",
        "    │   ├───📄 buildings.gpkg\n",
        "    │   └───📄 exposure.csv\n",
        "    ├───📁 hazard/\n",
        "    │   └───📄 hazard_map.geotiff\n",
        "    ├───📁 vulnerability/\n",
        "    │   └───📄 damage_curves.csv\n",
        "    └───📄 settings.toml\n",
        "\n",
        "```"
      ],
      "id": "7ba5387d"
    }
  ],
  "metadata": {
    "kernelspec": {
      "name": "python3",
      "language": "python",
      "display_name": "Python 3 (ipykernel)"
    }
  },
  "nbformat": 4,
  "nbformat_minor": 5
}
