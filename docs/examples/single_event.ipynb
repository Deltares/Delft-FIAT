{
 "cells": [
  {
   "cell_type": "markdown",
   "id": "e31ac578",
   "metadata": {},
   "source": [
    "# Single event\n",
    "This is a an example of running a tiny single event FIAT model.\n",
    "\n",
    "First of all, let's make sure that there is some actual testdata."
   ]
  },
  {
   "cell_type": "code",
   "execution_count": null,
   "id": "109cd4e5",
   "metadata": {},
   "outputs": [],
   "source": [
    "! python ../../.testdata/create_test_data.py"
   ]
  },
  {
   "cell_type": "markdown",
   "id": "86356bba",
   "metadata": {},
   "source": [
    "Now that we have some testdata, let's take a look at the settings file."
   ]
  },
  {
   "cell_type": "code",
   "execution_count": null,
   "id": "93a9fde1",
   "metadata": {},
   "outputs": [],
   "source": [
    "with open(\"../../.testdata/geom_event.toml\", \"r\") as r:\n",
    "    settings = r.read()\n",
    "print(settings)"
   ]
  },
  {
   "cell_type": "markdown",
   "id": "a64a1894",
   "metadata": {},
   "source": [
    "Now let's execute the model!"
   ]
  },
  {
   "cell_type": "code",
   "execution_count": null,
   "id": "88969f68",
   "metadata": {},
   "outputs": [],
   "source": [
    "! fiat run ../../.testdata/geom_event.toml"
   ]
  },
  {
   "cell_type": "markdown",
   "id": "46d2f0ba",
   "metadata": {},
   "source": [
    "Let's take a quick look at the output."
   ]
  },
  {
   "cell_type": "code",
   "execution_count": null,
   "id": "6ef31c41",
   "metadata": {},
   "outputs": [],
   "source": [
    "# Import a method\n",
    "from fiat.io import open_csv\n",
    "from pathlib import Path\n",
    "\n",
    "# check the output\n",
    "out = open_csv(Path(\"../../.testdata/output/geom_event\", \"output.csv\"), index=\"object_id\")\n",
    "print(out.columns)"
   ]
  },
  {
   "cell_type": "markdown",
   "id": "c79e1522",
   "metadata": {},
   "source": [
    "Assert that the output is what we would expect."
   ]
  },
  {
   "cell_type": "code",
   "execution_count": null,
   "id": "b69e8004",
   "metadata": {},
   "outputs": [],
   "source": [
    "assert float(out[2, \"total_damage\"]) == 740\n",
    "assert float(out[3, \"total_damage\"]) == 1038"
   ]
  }
 ],
 "metadata": {
  "kernelspec": {
   "display_name": "fiat_dev",
   "language": "python",
   "name": "python3"
  },
  "language_info": {
   "codemirror_mode": {
    "name": "ipython",
    "version": 3
   },
   "file_extension": ".py",
   "mimetype": "text/x-python",
   "name": "python",
   "nbconvert_exporter": "python",
   "pygments_lexer": "ipython3",
   "version": "3.13.1"
  }
 },
 "nbformat": 4,
 "nbformat_minor": 5
}
