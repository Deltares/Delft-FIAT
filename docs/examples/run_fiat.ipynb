{
 "cells": [
  {
   "cell_type": "markdown",
   "metadata": {},
   "source": [
    "# Running a FIAT model\n",
    "This is a an example of running a tiny FIAT model.\n",
    "\n",
    "First, the required packages are imported and some paths are set."
   ]
  },
  {
   "cell_type": "code",
   "execution_count": null,
   "metadata": {},
   "outputs": [],
   "source": [
    "from pathlib import Path\n",
    "from fiat.io import open_csv\n",
    "from fiat.models import GeomModel\n",
    "from fiat.cfg import ConfigReader\n",
    "\n",
    "root_path = Path.cwd().parent.parent\n",
    "settings_toml_event = Path(root_path, \".testdata\", \"settings.toml\")\n",
    "output = Path.cwd() / \"example_output\""
   ]
  },
  {
   "cell_type": "markdown",
   "metadata": {},
   "source": [
    "The test data needs to be created with the `create_test_data` python file."
   ]
  },
  {
   "cell_type": "code",
   "execution_count": null,
   "metadata": {},
   "outputs": [],
   "source": [
    "! python ../../.testdata/create_test_data.py"
   ]
  },
  {
   "cell_type": "markdown",
   "metadata": {},
   "source": [
    "Finally we configure and run the model."
   ]
  },
  {
   "cell_type": "code",
   "execution_count": null,
   "metadata": {},
   "outputs": [],
   "source": [
    "c = ConfigReader(settings_toml_event)\n",
    "c.set_output_dir(str(output))\n",
    "model = GeomModel(c)\n",
    "model.run()\n",
    "\n",
    "# check the output\n",
    "out = open_csv(Path(str(output), \"output.csv\"), index=\"Object ID\")"
   ]
  },
  {
   "cell_type": "code",
   "execution_count": null,
   "metadata": {},
   "outputs": [],
   "source": [
    "out[1, \"Total Damage\"]"
   ]
  },
  {
   "cell_type": "code",
   "execution_count": null,
   "metadata": {},
   "outputs": [],
   "source": [
    "assert float(out[2, \"Total Damage\"]) == 740\n",
    "assert float(out[3, \"Total Damage\"]) == 1038"
   ]
  }
 ],
 "metadata": {
  "kernelspec": {
   "display_name": "fiat_dev",
   "language": "python",
   "name": "python3"
  },
  "language_info": {
   "codemirror_mode": {
    "name": "ipython",
    "version": 3
   },
   "file_extension": ".py",
   "mimetype": "text/x-python",
   "name": "python",
   "nbconvert_exporter": "python",
   "pygments_lexer": "ipython3",
   "version": "3.11.6"
  }
 },
 "nbformat": 4,
 "nbformat_minor": 2
}
